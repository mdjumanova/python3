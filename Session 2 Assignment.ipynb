{
 "cells": [
  {
   "cell_type": "code",
   "execution_count": 1,
   "metadata": {},
   "outputs": [
    {
     "name": "stdout",
     "output_type": "stream",
     "text": [
      "My name is Munisa\n"
     ]
    }
   ],
   "source": [
    "print('My name is Munisa')"
   ]
  },
  {
   "cell_type": "code",
   "execution_count": 2,
   "metadata": {},
   "outputs": [
    {
     "name": "stdout",
     "output_type": "stream",
     "text": [
      "I am 18 years old\n"
     ]
    }
   ],
   "source": [
    "print(\"I am\", 18, \"years old\")"
   ]
  },
  {
   "cell_type": "code",
   "execution_count": 4,
   "metadata": {},
   "outputs": [
    {
     "name": "stdout",
     "output_type": "stream",
     "text": [
      "I was born in 2002\n"
     ]
    }
   ],
   "source": [
    "print(\"I was born in\" ,2002)"
   ]
  },
  {
   "cell_type": "code",
   "execution_count": 5,
   "metadata": {},
   "outputs": [
    {
     "name": "stdout",
     "output_type": "stream",
     "text": [
      "There are 5 people in my family\n"
     ]
    }
   ],
   "source": [
    "print(\"There are\", 5, \"people in my family\")"
   ]
  },
  {
   "cell_type": "code",
   "execution_count": 7,
   "metadata": {},
   "outputs": [
    {
     "name": "stdout",
     "output_type": "stream",
     "text": [
      " Enter your shopping list: \n",
      "\t #Groceries \n",
      " *Potato 1\n",
      "\n",
      " *Onion 1\n",
      "\n",
      " *Strawberry 1\n",
      "\t #Clothes Shop \n",
      " *Dress 1\n",
      " \n",
      " *Shoes 1\n",
      " \n",
      " *Bag 1\n",
      "\n",
      " *Jeans 1\n",
      "So, you're buying 1 kg potato, 1 kg oninion and 1 kg stawberry from Groceries. And from clothes shop, you`re purchasing 1 dress\n"
     ]
    }
   ],
   "source": [
    "shopping_list = \"\"\" Enter your shopping list: \"\"\"\n",
    "print(shopping_list)\n",
    "print('\\t #Groceries \\n *Potato', end = ' ')\n",
    "killo1 = input()\n",
    "print(\"\\n *Onion\" , end = ' ')\n",
    "killo2 = input()\n",
    "print(\"\\n *Strawberry\" , end = ' ')\n",
    "killo3 = input()\n",
    "print(\"\\t #Clothes Shop \\n *Dress\", end =' ')\n",
    "colour1 = input()\n",
    "print(\" \\n *Shoes\", end =' ')\n",
    "number1 = input()\n",
    "print(\" \\n *Bag\", end =' ')\n",
    "number2 = input()\n",
    "print(\"\\n *Jeans\" , end = ' ')\n",
    "number3 = input()\n",
    "\n",
    "print(f\"So, you're buying {killo1} kg potato, {killo2} kg oninion and {killo3} kg stawberry from Groceries. And from clothes shop, you`re purchasing {colour1} dress\")"
   ]
  },
  {
   "cell_type": "code",
   "execution_count": null,
   "metadata": {},
   "outputs": [],
   "source": []
  },
  {
   "cell_type": "code",
   "execution_count": null,
   "metadata": {},
   "outputs": [],
   "source": []
  }
 ],
 "metadata": {
  "kernelspec": {
   "display_name": "Python 3",
   "language": "python",
   "name": "python3"
  },
  "language_info": {
   "codemirror_mode": {
    "name": "ipython",
    "version": 3
   },
   "file_extension": ".py",
   "mimetype": "text/x-python",
   "name": "python",
   "nbconvert_exporter": "python",
   "pygments_lexer": "ipython3",
   "version": "3.8.5"
  }
 },
 "nbformat": 4,
 "nbformat_minor": 4
}
